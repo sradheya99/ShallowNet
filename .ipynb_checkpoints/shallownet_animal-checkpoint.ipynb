{
 "cells": [
  {
   "cell_type": "code",
   "execution_count": 21,
   "metadata": {},
   "outputs": [
    {
     "name": "stdout",
     "output_type": "stream",
     "text": [
      "[INFO] Loading Images....\n"
     ]
    }
   ],
   "source": [
    "from sklearn.model_selection import train_test_split\n",
    "from sklearn.metrics import classification_report\n",
    "from ShallowCNNModule.preprocessing.imagetoarraypreprocessor import ImageToArrayPreprocessor\n",
    "from ShallowCNNModule.preprocessing.simplepreprocessor import SimplePreprocessor\n",
    "from ShallowCNNModule.datasets.simpledatasetloader import SimpleDatasetLoader\n",
    "from ShallowCNNModule.nn.conv.shallownet import ShallowNet\n",
    "from keras.optimizers import SGD\n",
    "from keras.utils import to_categorical\n",
    "from imutils import paths\n",
    "import matplotlib.pyplot as plt\n",
    "import numpy as np\n",
    "import argparse\n",
    "import pandas as pd \n",
    "import os \n",
    "\n",
    "#ap = argparse.ArgumentParser()\n",
    "#ap.add_argument('-d', '--dataset', required = True, help = 'path to dataset')\n",
    "#arg = vars(ap.parse_args())\n",
    "\n",
    "print('[INFO] Loading Images....')\n",
    "imagePaths = list(paths.list_images('data/animal/'))\n",
    "\n"
   ]
  },
  {
   "cell_type": "code",
   "execution_count": 6,
   "metadata": {},
   "outputs": [
    {
     "name": "stdout",
     "output_type": "stream",
     "text": [
      "[INFO] processed 500/27\n",
      "[INFO] processed 1000/28\n",
      "[INFO] processed 1500/28\n",
      "[INFO] processed 2000/28\n",
      "[INFO] processed 2500/27\n",
      "[INFO] processed 3000/29\n",
      "[INFO] processed 3500/29\n",
      "[INFO] processed 4000/29\n",
      "[INFO] processed 4500/28\n",
      "[INFO] processed 5000/28\n",
      "[INFO] processed 5500/28\n",
      "[INFO] processed 6000/28\n",
      "[INFO] processed 6500/27\n",
      "[INFO] processed 7000/28\n",
      "[INFO] processed 7500/28\n",
      "[INFO] processed 8000/29\n",
      "[INFO] processed 8500/29\n",
      "[INFO] processed 9000/28\n",
      "[INFO] processed 9500/28\n",
      "[INFO] processed 10000/28\n",
      "[INFO] processed 10500/29\n",
      "[INFO] processed 11000/28\n",
      "[INFO] processed 11500/29\n",
      "[INFO] processed 12000/28\n",
      "[INFO] processed 12500/28\n",
      "[INFO] processed 13000/28\n",
      "[INFO] processed 13500/27\n",
      "[INFO] processed 14000/28\n",
      "[INFO] processed 14500/28\n",
      "[INFO] processed 15000/28\n",
      "[INFO] processed 15500/28\n",
      "[INFO] processed 16000/29\n",
      "[INFO] processed 16500/29\n",
      "[INFO] processed 17000/28\n",
      "[INFO] processed 17500/28\n",
      "[INFO] processed 18000/28\n",
      "[INFO] processed 18500/27\n",
      "[INFO] processed 19000/28\n",
      "[INFO] processed 19500/29\n",
      "[INFO] processed 20000/28\n",
      "[INFO] processed 20500/29\n",
      "[INFO] processed 21000/28\n",
      "[INFO] processed 21500/28\n",
      "[INFO] processed 22000/28\n",
      "[INFO] processed 22500/28\n",
      "[INFO] processed 23000/28\n",
      "[INFO] processed 23500/28\n",
      "[INFO] processed 24000/28\n",
      "[INFO] processed 24500/29\n",
      "[INFO] processed 25000/28\n"
     ]
    }
   ],
   "source": [
    "sp = SimplePreprocessor(32, 32)\n",
    "iap = ImageToArrayPreprocessor()\n",
    "\n",
    "sdl = SimpleDatasetLoader(preprocessors = [sp, iap])\n",
    "(data, labels) = sdl.load(imagePaths, verbose = 500)\n",
    "data = data.astype('float') / 255.0"
   ]
  },
  {
   "cell_type": "code",
   "execution_count": 17,
   "metadata": {},
   "outputs": [
    {
     "data": {
      "text/plain": [
       "numpy.ndarray"
      ]
     },
     "execution_count": 17,
     "metadata": {},
     "output_type": "execute_result"
    }
   ],
   "source": [
    "trainY"
   ]
  },
  {
   "cell_type": "code",
   "execution_count": 22,
   "metadata": {},
   "outputs": [
    {
     "data": {
      "text/plain": [
       "array(['dog', 'cat', 'dog'], dtype='<U3')"
      ]
     },
     "execution_count": 22,
     "metadata": {},
     "output_type": "execute_result"
    }
   ],
   "source": [
    "trainY[:3]"
   ]
  },
  {
   "cell_type": "code",
   "execution_count": 28,
   "metadata": {},
   "outputs": [],
   "source": [
    "(trainX, testX, trainY, testY) = train_test_split(data, labels, test_size = 0.25, random_state = 42)\n",
    "\n",
    "trainY = LabelEncoder().fit_transform(trainY)\n",
    "testY = LabelEncoder().fit_transform(testY)"
   ]
  },
  {
   "cell_type": "code",
   "execution_count": 31,
   "metadata": {},
   "outputs": [],
   "source": [
    "trainY = to_categorical(trainY) \n",
    "testY = to_categorical(testY)"
   ]
  },
  {
   "cell_type": "code",
   "execution_count": 33,
   "metadata": {},
   "outputs": [
    {
     "name": "stdout",
     "output_type": "stream",
     "text": [
      "[INFO] Compiling Model....\n"
     ]
    }
   ],
   "source": [
    "print('[INFO] Compiling Model....')\n",
    "opt = SGD(lr = 0.005)\n",
    "model = ShallowNet.build(width = 32, height = 32, depth = 3, classes = 2)\n",
    "model.compile(loss = 'categorical_crossentropy', optimizer = opt, metrics = ['accuracy'])"
   ]
  },
  {
   "cell_type": "code",
   "execution_count": 34,
   "metadata": {
    "scrolled": false
   },
   "outputs": [
    {
     "name": "stdout",
     "output_type": "stream",
     "text": [
      "[INFO] Training the Network....\n",
      "Train on 18750 samples, validate on 6250 samples\n",
      "Epoch 1/100\n",
      "18750/18750 [==============================] - 13s 670us/step - loss: 0.6807 - acc: 0.5633 - val_loss: 0.6742 - val_acc: 0.5589\n",
      "Epoch 2/100\n",
      "18750/18750 [==============================] - 1s 71us/step - loss: 0.6620 - acc: 0.6036 - val_loss: 0.6623 - val_acc: 0.5845\n",
      "Epoch 3/100\n",
      "18750/18750 [==============================] - 1s 71us/step - loss: 0.6505 - acc: 0.6205 - val_loss: 0.6439 - val_acc: 0.6354\n",
      "Epoch 4/100\n",
      "18750/18750 [==============================] - 1s 72us/step - loss: 0.6366 - acc: 0.6483 - val_loss: 0.6331 - val_acc: 0.6552\n",
      "Epoch 5/100\n",
      "18750/18750 [==============================] - 1s 71us/step - loss: 0.6221 - acc: 0.6657 - val_loss: 0.6305 - val_acc: 0.6338\n",
      "Epoch 6/100\n",
      "18750/18750 [==============================] - 1s 72us/step - loss: 0.6085 - acc: 0.6814 - val_loss: 0.6036 - val_acc: 0.6805\n",
      "Epoch 7/100\n",
      "18750/18750 [==============================] - 1s 74us/step - loss: 0.5957 - acc: 0.6940 - val_loss: 0.5999 - val_acc: 0.6755\n",
      "Epoch 8/100\n",
      "18750/18750 [==============================] - 1s 72us/step - loss: 0.5848 - acc: 0.6975 - val_loss: 0.6173 - val_acc: 0.6357\n",
      "Epoch 9/100\n",
      "18750/18750 [==============================] - 1s 76us/step - loss: 0.5758 - acc: 0.7048 - val_loss: 0.5817 - val_acc: 0.7075\n",
      "Epoch 10/100\n",
      "18750/18750 [==============================] - 1s 74us/step - loss: 0.5686 - acc: 0.7125 - val_loss: 0.5742 - val_acc: 0.7008\n",
      "Epoch 11/100\n",
      "18750/18750 [==============================] - 1s 74us/step - loss: 0.5629 - acc: 0.7178 - val_loss: 0.5700 - val_acc: 0.7123\n",
      "Epoch 12/100\n",
      "18750/18750 [==============================] - 1s 74us/step - loss: 0.5576 - acc: 0.7195 - val_loss: 0.5707 - val_acc: 0.6992\n",
      "Epoch 13/100\n",
      "18750/18750 [==============================] - 1s 72us/step - loss: 0.5517 - acc: 0.7217 - val_loss: 0.5667 - val_acc: 0.7134\n",
      "Epoch 14/100\n",
      "18750/18750 [==============================] - 1s 72us/step - loss: 0.5472 - acc: 0.7278 - val_loss: 0.5672 - val_acc: 0.7021\n",
      "Epoch 15/100\n",
      "18750/18750 [==============================] - 1s 72us/step - loss: 0.5435 - acc: 0.7311 - val_loss: 0.5683 - val_acc: 0.6976\n",
      "Epoch 16/100\n",
      "18750/18750 [==============================] - 1s 73us/step - loss: 0.5379 - acc: 0.7319 - val_loss: 0.5592 - val_acc: 0.7120\n",
      "Epoch 17/100\n",
      "18750/18750 [==============================] - 1s 72us/step - loss: 0.5342 - acc: 0.7354 - val_loss: 0.5620 - val_acc: 0.7139\n",
      "Epoch 18/100\n",
      "18750/18750 [==============================] - 1s 73us/step - loss: 0.5312 - acc: 0.7378 - val_loss: 0.5543 - val_acc: 0.7166\n",
      "Epoch 19/100\n",
      "18750/18750 [==============================] - 1s 73us/step - loss: 0.5264 - acc: 0.7431 - val_loss: 0.5516 - val_acc: 0.7198\n",
      "Epoch 20/100\n",
      "18750/18750 [==============================] - 1s 73us/step - loss: 0.5237 - acc: 0.7432 - val_loss: 0.5477 - val_acc: 0.7238\n",
      "Epoch 21/100\n",
      "18750/18750 [==============================] - 1s 73us/step - loss: 0.5193 - acc: 0.7499 - val_loss: 0.5483 - val_acc: 0.7232\n",
      "Epoch 22/100\n",
      "18750/18750 [==============================] - 1s 73us/step - loss: 0.5157 - acc: 0.7491 - val_loss: 0.5487 - val_acc: 0.7221\n",
      "Epoch 23/100\n",
      "18750/18750 [==============================] - 1s 74us/step - loss: 0.5126 - acc: 0.7519 - val_loss: 0.5516 - val_acc: 0.7176\n",
      "Epoch 24/100\n",
      "18750/18750 [==============================] - 1s 74us/step - loss: 0.5093 - acc: 0.7553 - val_loss: 0.5428 - val_acc: 0.7298\n",
      "Epoch 25/100\n",
      "18750/18750 [==============================] - 1s 74us/step - loss: 0.5061 - acc: 0.7562 - val_loss: 0.5413 - val_acc: 0.7270\n",
      "Epoch 26/100\n",
      "18750/18750 [==============================] - 1s 74us/step - loss: 0.5039 - acc: 0.7548 - val_loss: 0.5391 - val_acc: 0.7267\n",
      "Epoch 27/100\n",
      "18750/18750 [==============================] - 1s 74us/step - loss: 0.5006 - acc: 0.7590 - val_loss: 0.5373 - val_acc: 0.7302\n",
      "Epoch 28/100\n",
      "18750/18750 [==============================] - 1s 74us/step - loss: 0.4972 - acc: 0.7607 - val_loss: 0.5389 - val_acc: 0.7282\n",
      "Epoch 29/100\n",
      "18750/18750 [==============================] - 1s 74us/step - loss: 0.4951 - acc: 0.7613 - val_loss: 0.5391 - val_acc: 0.7275\n",
      "Epoch 30/100\n",
      "18750/18750 [==============================] - 1s 74us/step - loss: 0.4919 - acc: 0.7641 - val_loss: 0.5587 - val_acc: 0.7048\n",
      "Epoch 31/100\n",
      "18750/18750 [==============================] - 1s 73us/step - loss: 0.4897 - acc: 0.7659 - val_loss: 0.5341 - val_acc: 0.7354\n",
      "Epoch 32/100\n",
      "18750/18750 [==============================] - 1s 73us/step - loss: 0.4868 - acc: 0.7672 - val_loss: 0.5352 - val_acc: 0.7376\n",
      "Epoch 33/100\n",
      "18750/18750 [==============================] - 1s 74us/step - loss: 0.4836 - acc: 0.7708 - val_loss: 0.5347 - val_acc: 0.7368\n",
      "Epoch 34/100\n",
      "18750/18750 [==============================] - 1s 74us/step - loss: 0.4822 - acc: 0.7711 - val_loss: 0.5357 - val_acc: 0.7328\n",
      "Epoch 35/100\n",
      "18750/18750 [==============================] - 1s 73us/step - loss: 0.4797 - acc: 0.7727 - val_loss: 0.5333 - val_acc: 0.7330\n",
      "Epoch 36/100\n",
      "18750/18750 [==============================] - 1s 74us/step - loss: 0.4765 - acc: 0.7725 - val_loss: 0.5364 - val_acc: 0.7373\n",
      "Epoch 37/100\n",
      "18750/18750 [==============================] - 1s 74us/step - loss: 0.4745 - acc: 0.7770 - val_loss: 0.5329 - val_acc: 0.7398\n",
      "Epoch 38/100\n",
      "18750/18750 [==============================] - 1s 77us/step - loss: 0.4724 - acc: 0.7794 - val_loss: 0.5331 - val_acc: 0.7370\n",
      "Epoch 39/100\n",
      "18750/18750 [==============================] - 1s 79us/step - loss: 0.4717 - acc: 0.7772 - val_loss: 0.5337 - val_acc: 0.7382\n",
      "Epoch 40/100\n",
      "18750/18750 [==============================] - 1s 74us/step - loss: 0.4678 - acc: 0.7796 - val_loss: 0.5418 - val_acc: 0.7302\n",
      "Epoch 41/100\n",
      "18750/18750 [==============================] - 1s 73us/step - loss: 0.4664 - acc: 0.7811 - val_loss: 0.5418 - val_acc: 0.7338\n",
      "Epoch 42/100\n",
      "18750/18750 [==============================] - 1s 73us/step - loss: 0.4631 - acc: 0.7805 - val_loss: 0.5306 - val_acc: 0.7405\n",
      "Epoch 43/100\n",
      "18750/18750 [==============================] - 1s 72us/step - loss: 0.4634 - acc: 0.7828 - val_loss: 0.5328 - val_acc: 0.7382\n",
      "Epoch 44/100\n",
      "18750/18750 [==============================] - 1s 72us/step - loss: 0.4603 - acc: 0.7854 - val_loss: 0.5315 - val_acc: 0.7410\n",
      "Epoch 45/100\n",
      "18750/18750 [==============================] - 1s 73us/step - loss: 0.4582 - acc: 0.7850 - val_loss: 0.5448 - val_acc: 0.7253\n",
      "Epoch 46/100\n",
      "18750/18750 [==============================] - 1s 73us/step - loss: 0.4584 - acc: 0.7867 - val_loss: 0.5296 - val_acc: 0.7419\n",
      "Epoch 47/100\n",
      "18750/18750 [==============================] - 1s 74us/step - loss: 0.4550 - acc: 0.7867 - val_loss: 0.5284 - val_acc: 0.7400\n",
      "Epoch 48/100\n",
      "18750/18750 [==============================] - 1s 73us/step - loss: 0.4525 - acc: 0.7902 - val_loss: 0.5693 - val_acc: 0.7094\n",
      "Epoch 49/100\n",
      "18750/18750 [==============================] - 1s 74us/step - loss: 0.4510 - acc: 0.7896 - val_loss: 0.5382 - val_acc: 0.7314\n",
      "Epoch 50/100\n",
      "18750/18750 [==============================] - 1s 74us/step - loss: 0.4493 - acc: 0.7916 - val_loss: 0.5741 - val_acc: 0.7144\n",
      "Epoch 51/100\n",
      "18750/18750 [==============================] - 1s 74us/step - loss: 0.4483 - acc: 0.7921 - val_loss: 0.5328 - val_acc: 0.7366\n",
      "Epoch 52/100\n",
      "18750/18750 [==============================] - 1s 74us/step - loss: 0.4457 - acc: 0.7940 - val_loss: 0.5337 - val_acc: 0.7368\n",
      "Epoch 53/100\n",
      "18750/18750 [==============================] - 1s 74us/step - loss: 0.4438 - acc: 0.7958 - val_loss: 0.5318 - val_acc: 0.7371\n",
      "Epoch 54/100\n",
      "18750/18750 [==============================] - 1s 74us/step - loss: 0.4434 - acc: 0.7925 - val_loss: 0.5615 - val_acc: 0.7141\n",
      "Epoch 55/100\n",
      "18750/18750 [==============================] - 1s 74us/step - loss: 0.4394 - acc: 0.7946 - val_loss: 0.5451 - val_acc: 0.7323\n",
      "Epoch 56/100\n",
      "18750/18750 [==============================] - 1s 74us/step - loss: 0.4395 - acc: 0.7979 - val_loss: 0.5421 - val_acc: 0.7350\n",
      "Epoch 57/100\n",
      "18750/18750 [==============================] - 1s 77us/step - loss: 0.4377 - acc: 0.7959 - val_loss: 0.5301 - val_acc: 0.7398\n",
      "Epoch 58/100\n",
      "18750/18750 [==============================] - 1s 73us/step - loss: 0.4350 - acc: 0.7986 - val_loss: 0.5423 - val_acc: 0.7286\n",
      "Epoch 59/100\n"
     ]
    },
    {
     "name": "stdout",
     "output_type": "stream",
     "text": [
      "18750/18750 [==============================] - 1s 71us/step - loss: 0.4353 - acc: 0.7985 - val_loss: 0.5277 - val_acc: 0.7430\n",
      "Epoch 60/100\n",
      "18750/18750 [==============================] - 1s 71us/step - loss: 0.4321 - acc: 0.8001 - val_loss: 0.5467 - val_acc: 0.7274\n",
      "Epoch 61/100\n",
      "18750/18750 [==============================] - 1s 71us/step - loss: 0.4306 - acc: 0.8031 - val_loss: 0.5323 - val_acc: 0.7435\n",
      "Epoch 62/100\n",
      "18750/18750 [==============================] - 1s 71us/step - loss: 0.4291 - acc: 0.8030 - val_loss: 0.5280 - val_acc: 0.7419\n",
      "Epoch 63/100\n",
      "18750/18750 [==============================] - 1s 71us/step - loss: 0.4277 - acc: 0.8042 - val_loss: 0.5281 - val_acc: 0.7426\n",
      "Epoch 64/100\n",
      "18750/18750 [==============================] - 1s 72us/step - loss: 0.4256 - acc: 0.8075 - val_loss: 0.5633 - val_acc: 0.7224\n",
      "Epoch 65/100\n",
      "18750/18750 [==============================] - 1s 72us/step - loss: 0.4224 - acc: 0.8062 - val_loss: 0.5275 - val_acc: 0.7418\n",
      "Epoch 66/100\n",
      "18750/18750 [==============================] - 1s 71us/step - loss: 0.4221 - acc: 0.8062 - val_loss: 0.5316 - val_acc: 0.7382\n",
      "Epoch 67/100\n",
      "18750/18750 [==============================] - 1s 72us/step - loss: 0.4204 - acc: 0.8084 - val_loss: 0.5669 - val_acc: 0.7254\n",
      "Epoch 68/100\n",
      "18750/18750 [==============================] - 1s 72us/step - loss: 0.4193 - acc: 0.8091 - val_loss: 0.5302 - val_acc: 0.7426\n",
      "Epoch 69/100\n",
      "18750/18750 [==============================] - 1s 72us/step - loss: 0.4186 - acc: 0.8067 - val_loss: 0.5354 - val_acc: 0.7411\n",
      "Epoch 70/100\n",
      "18750/18750 [==============================] - 1s 72us/step - loss: 0.4162 - acc: 0.8115 - val_loss: 0.5307 - val_acc: 0.7422\n",
      "Epoch 71/100\n",
      "18750/18750 [==============================] - 1s 72us/step - loss: 0.4136 - acc: 0.8127 - val_loss: 0.5317 - val_acc: 0.7430\n",
      "Epoch 72/100\n",
      "18750/18750 [==============================] - 1s 72us/step - loss: 0.4120 - acc: 0.8116 - val_loss: 0.5324 - val_acc: 0.7416\n",
      "Epoch 73/100\n",
      "18750/18750 [==============================] - 1s 72us/step - loss: 0.4116 - acc: 0.8146 - val_loss: 0.5397 - val_acc: 0.7384\n",
      "Epoch 74/100\n",
      "18750/18750 [==============================] - 1s 71us/step - loss: 0.4093 - acc: 0.8146 - val_loss: 0.5306 - val_acc: 0.7416\n",
      "Epoch 75/100\n",
      "18750/18750 [==============================] - 1s 72us/step - loss: 0.4075 - acc: 0.8163 - val_loss: 0.5311 - val_acc: 0.7419\n",
      "Epoch 76/100\n",
      "18750/18750 [==============================] - 1s 72us/step - loss: 0.4056 - acc: 0.8170 - val_loss: 0.5436 - val_acc: 0.7386\n",
      "Epoch 77/100\n",
      "18750/18750 [==============================] - 1s 71us/step - loss: 0.4043 - acc: 0.8190 - val_loss: 0.5333 - val_acc: 0.7429\n",
      "Epoch 78/100\n",
      "18750/18750 [==============================] - 1s 71us/step - loss: 0.4047 - acc: 0.8163 - val_loss: 0.5338 - val_acc: 0.7389\n",
      "Epoch 79/100\n",
      "18750/18750 [==============================] - 1s 72us/step - loss: 0.4024 - acc: 0.8212 - val_loss: 0.5431 - val_acc: 0.7347\n",
      "Epoch 80/100\n",
      "18750/18750 [==============================] - 1s 71us/step - loss: 0.4000 - acc: 0.8190 - val_loss: 0.5304 - val_acc: 0.7434\n",
      "Epoch 81/100\n",
      "18750/18750 [==============================] - 1s 77us/step - loss: 0.3985 - acc: 0.8204 - val_loss: 0.5355 - val_acc: 0.7402\n",
      "Epoch 82/100\n",
      "18750/18750 [==============================] - 1s 76us/step - loss: 0.3969 - acc: 0.8221 - val_loss: 0.5407 - val_acc: 0.7402\n",
      "Epoch 83/100\n",
      "18750/18750 [==============================] - 1s 72us/step - loss: 0.3961 - acc: 0.8221 - val_loss: 0.5399 - val_acc: 0.7442\n",
      "Epoch 84/100\n",
      "18750/18750 [==============================] - 1s 72us/step - loss: 0.3937 - acc: 0.8241 - val_loss: 0.5352 - val_acc: 0.7461\n",
      "Epoch 85/100\n",
      "18750/18750 [==============================] - 1s 74us/step - loss: 0.3907 - acc: 0.8277 - val_loss: 0.5402 - val_acc: 0.7422\n",
      "Epoch 86/100\n",
      "18750/18750 [==============================] - 1s 72us/step - loss: 0.3895 - acc: 0.8268 - val_loss: 0.5332 - val_acc: 0.7421\n",
      "Epoch 87/100\n",
      "18750/18750 [==============================] - 1s 73us/step - loss: 0.3923 - acc: 0.8267 - val_loss: 0.5743 - val_acc: 0.7246\n",
      "Epoch 88/100\n",
      "18750/18750 [==============================] - 1s 73us/step - loss: 0.3873 - acc: 0.8278 - val_loss: 0.5430 - val_acc: 0.7362\n",
      "Epoch 89/100\n",
      "18750/18750 [==============================] - 1s 73us/step - loss: 0.3868 - acc: 0.8282 - val_loss: 0.5430 - val_acc: 0.7430\n",
      "Epoch 90/100\n",
      "18750/18750 [==============================] - 1s 73us/step - loss: 0.3851 - acc: 0.8282 - val_loss: 0.5373 - val_acc: 0.7414\n",
      "Epoch 91/100\n",
      "18750/18750 [==============================] - 1s 74us/step - loss: 0.3817 - acc: 0.8307 - val_loss: 0.5340 - val_acc: 0.7419\n",
      "Epoch 92/100\n",
      "18750/18750 [==============================] - 1s 74us/step - loss: 0.3823 - acc: 0.8309 - val_loss: 0.5476 - val_acc: 0.7405\n",
      "Epoch 93/100\n",
      "18750/18750 [==============================] - 1s 74us/step - loss: 0.3812 - acc: 0.8331 - val_loss: 0.5417 - val_acc: 0.7398\n",
      "Epoch 94/100\n",
      "18750/18750 [==============================] - 1s 75us/step - loss: 0.3784 - acc: 0.8329 - val_loss: 0.5513 - val_acc: 0.7410\n",
      "Epoch 95/100\n",
      "18750/18750 [==============================] - 1s 73us/step - loss: 0.3778 - acc: 0.8332 - val_loss: 0.5354 - val_acc: 0.7416\n",
      "Epoch 96/100\n",
      "18750/18750 [==============================] - 1s 73us/step - loss: 0.3749 - acc: 0.8350 - val_loss: 0.5349 - val_acc: 0.7437\n",
      "Epoch 97/100\n",
      "18750/18750 [==============================] - 1s 73us/step - loss: 0.3750 - acc: 0.8335 - val_loss: 0.5417 - val_acc: 0.7382\n",
      "Epoch 98/100\n",
      "18750/18750 [==============================] - 1s 74us/step - loss: 0.3725 - acc: 0.8369 - val_loss: 0.5360 - val_acc: 0.7426\n",
      "Epoch 99/100\n",
      "18750/18750 [==============================] - 1s 77us/step - loss: 0.3709 - acc: 0.8369 - val_loss: 0.5503 - val_acc: 0.7410\n",
      "Epoch 100/100\n",
      "18750/18750 [==============================] - 1s 72us/step - loss: 0.3703 - acc: 0.8372 - val_loss: 0.5451 - val_acc: 0.7378\n"
     ]
    }
   ],
   "source": [
    "print('[INFO] Training the Network....')\n",
    "H = model.fit(trainX, trainY, validation_data = (testX, testY), batch_size = 32, epochs = 100, verbose = 1)"
   ]
  },
  {
   "cell_type": "code",
   "execution_count": 36,
   "metadata": {},
   "outputs": [
    {
     "name": "stdout",
     "output_type": "stream",
     "text": [
      "[INFO] Evaluating Network....\n",
      "             precision    recall  f1-score   support\n",
      "\n",
      "        cat       0.77      0.68      0.72      3141\n",
      "        dog       0.71      0.80      0.75      3109\n",
      "\n",
      "avg / total       0.74      0.74      0.74      6250\n",
      "\n"
     ]
    },
    {
     "data": {
      "image/png": "[encoded data removed]",
      "text/plain": [
       "<matplotlib.figure.Figure at 0x7ff6ecd69e10>"
      ]
     },
     "metadata": {},
     "output_type": "display_data"
    }
   ],
   "source": [
    "print('[INFO] Evaluating Network....')\n",
    "predictions = model.predict(testX, batch_size = 32)\n",
    "print(classification_report(testY.argmax(axis = 1), predictions.argmax(axis = 1), target_names = ['cat', 'dog']))\n",
    "\n",
    "plt.style.use('ggplot')\n",
    "plt.figure(figsize = (8, 5))\n",
    "plt.plot(np.arange(0, 100), H.history['loss'], label = 'train_loss')\n",
    "plt.plot(np.arange(0, 100), H.history['val_loss'], label = 'val_loss')\n",
    "plt.plot(np.arange(0, 100), H.history['acc'], label = 'train_acc')\n",
    "plt.plot(np.arange(0, 100), H.history['val_acc'], label = 'val_acc')\n",
    "\n",
    "plt.title('Training Loss and Accuracy')\n",
    "plt.xlabel('Epoch #')\n",
    "plt.ylabel('Loss/Accuracy')\n",
    "plt.legend()\n",
    "plt.show()"
   ]
  },
  {
   "cell_type": "code",
   "execution_count": null,
   "metadata": {},
   "outputs": [],
   "source": []
  }
 ],
 "metadata": {
  "kernelspec": {
   "display_name": "Python 3",
   "language": "python",
   "name": "python3"
  },
  "language_info": {
   "codemirror_mode": {
    "name": "ipython",
    "version": 3
   },
   "file_extension": ".py",
   "mimetype": "text/x-python",
   "name": "python",
   "nbconvert_exporter": "python",
   "pygments_lexer": "ipython3",
   "version": "3.6.4"
  }
 },
 "nbformat": 4,
 "nbformat_minor": 2
}
